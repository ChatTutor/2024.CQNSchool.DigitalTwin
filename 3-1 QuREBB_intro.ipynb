{
 "cells": [
  {
   "cell_type": "markdown",
   "id": "267c3483-30f2-4452-a546-0ad79e561d39",
   "metadata": {},
   "source": [
    "# QuREBB: Quantum Remote Entanglement Building Block Simulations"
   ]
  },
  {
   "cell_type": "markdown",
   "id": "938da062-ad80-4476-b7b5-113bda9c4c92",
   "metadata": {},
   "source": [
    "Welcome to the **QuREBB**! Here, we introduce a modular theoretical framework designed for the comprehensive understanding and comparison of various photon-mediated remote entanglement protocols (REPs). This notebook is based on the framework and results outlined in our tutorial paper [\"Tutorial: Remote entanglement protocols for stationary qubits with photonic interface\"](https://arxiv.org/abs/2310.19878v1). Structured into four distinct layers, this framework facilitates the assembly of modules by connecting one's output to another's input, elucidating the intricate mechanisms underpinning entanglement.\n",
    "\n",
    "The primary strength of our framework is its capability to delineate common features inherent to different remote entanglement protocols. Beyond this, it is designed with adaptability at its core, enabling users to modify modules with precision. This adaptability is crucial to compare a protocol across diverse quantum hardware setups or to test an array of protocols on a consistent hardware foundation. Such modularity and precision often remain elusive in dedicated entanglement simulations tailored for specific experimental setups. Dive deep into the intricacies of photon-mediated entanglement generation between qubit systems, and leverage the robust capabilities of our simulation suite."
   ]
  },
  {
   "cell_type": "markdown",
   "id": "b3b837fb",
   "metadata": {},
   "source": [
    "## Photon-mediated Remote Entanglement Protocols\n",
    "\n",
    "Photon-mediated remote entanglement protocols are essential in quantum networks, quantum computing, and quantum communication, with the synthesis of quantum mechanics and photonic technology. These protocols enable the generation of quantum entanglement between stationary qubits (often called \"quantum memory\") over long distances. At the core of these protocols is the utilization of photons as intermediaries, leveraging their inherent stabilities over optical fibers. This approach not only circumvents the limitations posed by the direct interaction of qubits but also harnesses the speed and coherence properties of photons, making long-range quantum communication feasible.\n",
    "\n",
    "The significance of these protocols lies in their potential to create extensive quantum networks, similar to the internet, but operating on the principles of quantum mechanics. Such networks could revolutionize data security through quantum cryptography and enable distributed quantum computing, where computational tasks are shared across multiple quantum nodes. The development of photon-mediated remote entanglement protocols is thus a critical step towards realizing the full potential of quantum technologies. It merges the realms of quantum photonics, where light-matter interactions are manipulated at the quantum level, with quantum information science, offering innovative solutions to the challenges of scalability and robustness in quantum systems."
   ]
  },
  {
   "cell_type": "markdown",
   "id": "9060e452",
   "metadata": {},
   "source": [
    "## Remote entanglement protocol framework\n",
    "\n",
    "Here, as a Tutorial, we present a theoretical framework for comparing and understanding different photon-mediated remote entanglement protocols (REPs). The modular framework consists of four layers, with modules assembled by connecting one's output to another's input. \n",
    "\n",
    "The advantage of this framework is that it gives insights into the common features of remote entanglement protocols. Moreover, it allows easy modification of the modules to compare a protocol with different types of quantum hardware or to rearrange the quantum hardware and test different protocols with the same hardware. Dedicated simulations of entanglement generation for a given experiment usually lack this flexibility.\n",
    "\n",
    "Figure 1 illustrates the framework. We start by explaining the high-level idea and how the first layer (logical building block and topology) can describe REPs in a generic manner. Next, we introduce the encoding and physical building block layers, which link the protocol to specific hardware. Finally, the quantum optical modeling layer provides a detailed, quantitative description of the physical building blocks. Our focus is on qubits realized with a single spin in atomic or solid-state systems, but the framework can incorporate other systems such as the spin wave in an atomic ensemble and optomechanical resonators, as well as superconducting qubits. These single entangled links between qubits could later be extended to multi-spin encoding for error correction for fault-tolerant quantum networks."
   ]
  },
  {
   "cell_type": "markdown",
   "id": "faac2ea4",
   "metadata": {},
   "source": [
    "![Fig1](Images/QuREBB-figure1.png)\n",
    "\n",
    "**Figure 1** - Overview of remote entanglement protocol modular framework. **Entanglement link** - The objective of entanglement protocols is to entangle two remote spins (purple) where the entanglement is created by photons (red). (a) **Logical Building Blocks (LBB)** and Topology - The topology for remote entanglement generation is deconstructed in logical building blocks (LBBs). From left to right, we consider three main REP topologies: the detection-in-midpoint, sender-receiver, and source-in-midpoint topology. (b) **Encoding** - The encoding layer chooses the basis for the photonic qubits and the levels for the spin qubit. We illustrate the time-bin encoding of sender-receiver topology with spin-photon gates. (c) **Physical Building Blocks (PBB)** - The physical building blocks (PBBs) are the quantum channel describing the operations of the physical systems including imperfections. This layer shows the REP at the physical level. The first panel describes the construction of spin-photon gates with an overcoupled cavity QED system for state conditional amplitude reflection. The second panel shows the implementation of a measurement of the time-bin qubit in the X-basis, using a Mach-Zehnder interferometer. (d) **Quantum optical modeling** - This layer models the hardware used in the PBB. In this example the relevant parameters for the PBBs (e.g. state-dependent reflection coefficient, $r_{\\ket{0}, \\ket{1}}$) can be calculated from physical variables (e.g. spin-cavity coupling rate, $g$), using a detailed quantum optical model. We implemented these descriptions in a software package publicly available on GitHub."
   ]
  },
  {
   "cell_type": "markdown",
   "id": "58191ed7",
   "metadata": {},
   "source": [
    "## QuREBB Repository\n",
    "\n",
    "We have released a software package titled QuREBB (Quantum Remote Entanglement Building Block simulations), available in an accompanying GitHub repository. This package offers a comparison of three exemplary entanglement protocols. For each protocol, we review every layer, from the idealized version to its practical implementation. As an example, we assume that the protocols are implemented with silicon-vacancy color centers in diamond nanophotonic cavities. This serves as a Tutorial on how to effectively employ our theoretical framework for the construction and quantitative analysis of the protocol's performance. The modular structure of our software implementation mirrors the framework, enabling the implementation of complex quantum systems from the physical to the network levels. Users can easily add new physical devices or logical units without interfering with existing functionality. Our ``named quantum object'' simplifies the tensor operations of different quantum subsystems by indexing them by names instead of numerical values."
   ]
  },
  {
   "cell_type": "markdown",
   "id": "3acb0727",
   "metadata": {},
   "source": [
    "![QuREBBrepo](Images/QuREBB-Repo.png)"
   ]
  },
  {
   "cell_type": "markdown",
   "id": "3aab2683",
   "metadata": {},
   "source": [
    "## How to start QuREBB"
   ]
  },
  {
   "cell_type": "markdown",
   "id": "377c0527",
   "metadata": {},
   "source": [
    "**If you have git on your machine**, your can clone the repository through git.\n",
    "\n",
    "**If you do not have git**, you can manually download from the [repository](https://github.com/QuTech-Delft/QuREBB)\n",
    "\n",
    "```bash\n",
    "$ git clone https://github.com/QuTech-Delft/QuREBB.git\n",
    "```\n",
    "\n",
    "The virtual environment in this QuREBB repository is managed by [pipenv](https://pipenv.pypa.io/en/latest/).\n",
    "To install pipenv you can use pip:\n",
    "\n",
    "```bash\n",
    "$ pip install pipenv --user\n",
    "```\n",
    "\n",
    "Using pipenv you then want to install all the dependencies of the repository by syncing with pipenv.\n",
    "First navigate in the terminal to the QuREBB folder. Then run:\n",
    "\n",
    "```bash\n",
    "$ pipenv sync\n",
    "```\n",
    "\n",
    "Once you are synced you can go into a shell of this virtual enviroment (again while being in the QuREBB folder):\n",
    "\n",
    "```bash\n",
    "$ pipenv shell\n",
    "```\n",
    "\n",
    "The commands you now run are within this virtual enviroment, e.g.:\n",
    "\n",
    "```bash\n",
    "$ jupyter lab\n",
    "```"
   ]
  },
  {
   "cell_type": "markdown",
   "id": "442934c4",
   "metadata": {},
   "source": [
    "## Logical building blocks\n",
    "\n",
    "The first layer of our framework is the choice of protocol topology and its description in terms of logical building blocks (LBBs). The operation of the protocol topology can be described by the circuit diagrams Fig. 2(a). LBBs are high-level quantum operations in a quantum network that can be chained together to form an entanglement protocol, such as photon sources, spin-photon emission, and photon detection. In Fig. 2(b) we show how LBBs compare to elementary circuit diagrams, and in Fig. 2(c) how they can be used to construct different protocol topologies. The LBBs are not hardware-specific, as the practical details on what generates this operation and the dependence on physical parameters are described in the physical building block layer. "
   ]
  },
  {
   "cell_type": "markdown",
   "id": "8cde3571",
   "metadata": {},
   "source": [
    "### Topology of the protocol\n",
    "\n",
    "In the detection-in-midpoint topology, both endpoints generate spin-photon entanglement. The photons are then measured in the middle, in an entangled basis using a Bell state measurement. This projects the two spins in an entangled state. The detection-in-midpoint topology has an advantage in its simplicity. At its most basic, this topology requires only photon-emission from the spins, beamsplitter interference of the photons, and single-photon detections at the central station. Efficient spin-photon interfaces like optical cavities, while helpful, are not necessary to get high-fidelity entanglement. Furthermore, the time overhead for classical communication is reduced by half compared to the other topologies, since the endpoints communicate solely with the detection point, eliminating the need for direct communication between them.\n",
    "\n",
    "In the sender-receiver topology, the first endpoint generates spin-photon entanglement, and the photon is then sent to the second endpoint, where it interacts with the spin, such that entanglement between the spins is achieved. This interaction can be a gate-like behavior (e.g. by using an optical cavity) after which the photon is measured. Alternatively, the photon can be absorbed by the spin-photon interface in which case this topology matches the workings of quantum state transfer [2, 3]. The sender-receiver topology does not necessitate an intermediary station for the spins to become entangled. However, the classical communication time for the heralding signal is twice as long compared to a detection-in-midpoint, as it needs to travel the full distance as opposed to half of it.\n",
    "\n",
    "The source-in-midpoint topology has an entangled photon source in the middle which sends these photons to the endpoints. The endpoints have an entangling interaction between the spin and the photon, after which the photons are measured and the spins will be projected into an entangled state. The source-in-midpoint topology is useful in satellite-assisted entanglement protocols. Ground-to-satellite channel (uplink) has a higher overall loss than the satellite-to-ground channel (downlink). Phenomenologically, this phenomenon is collectively referred to as the “shower curtain effect” of the atmosphere. In particular, the diffraction and deflection by air turbulence are more severe in the early stage of transmission than in the late stage on the dispersed beam. Moreover, practical factors such as limited onboard optics on the satellite result in a larger pointing error in the uplink than the downlink.\n",
    "\n",
    "Remote entanglement between two stationary qubits has been experimentally realized with sender-receiver topology using trapped atoms embedded in optical cavities, and with detection-in-midpoint using several platforms including NV centers in diamond, quantum dots, trapped ions, and neutral atoms."
   ]
  },
  {
   "cell_type": "markdown",
   "id": "b60b19d0",
   "metadata": {},
   "source": [
    "![QuREBBrepo](Images/QuREBB-2a.png)\n",
    "\n",
    "**Figure 2(a)** Remote entanglement protocol topologies and logical building blocks (LBBs): Three available topologies for REP - detection-in-midpoint, sender-receiver topology, and source-in-midpoint and their operation with circuit diagrams. Here we use the notation $\\ket{+} = (\\ket{0}+\\ket{1})/\\sqrt{2}$. "
   ]
  },
  {
   "cell_type": "markdown",
   "id": "b981eb3a",
   "metadata": {},
   "source": [
    "\n",
    "\n",
    "### Spin-Photon Interface blocks \n",
    "The key logical building block of a REP is the spin-photon interface block since this is the interaction between the stationary and flying qubits. \n",
    "In this work, we focus on REPs that are heralded, using single-photon detection to screen out photon loss errors. Absorption-based spin-photon interfaces generally allow heralding only through additional energy levels in the stationary qubit. Thus, we give only a cursory treatment of absorption-based spin-photon interfaces. We identify four main categories of the spin-photon interface blocks:\n",
    "\n",
    "**Spin-Photon Emission** - A spin-photon emission block creates a photonic qubit entangled with the qubit state of the spin by emission through a higher level excited state. This is commonly achieved by the emission of a photon after spin-dependent excitation with a laser pulse. As an example, optical excitation of a spin in a superposition state will emit a photon depending on the spin state: $\\frac{1}{\\sqrt{2}}(\\ket{0}_s+\\ket{1}_s) \\xrightarrow{\\text{laser}} \\frac{1}{\\sqrt{2}}(\\ket{0}_s+\\ket{\\text{excited}}_s) \\rightarrow \\frac{1}{\\sqrt{2}}(\\ket{0}_s\\ket{0}_p+\\ket{1}_s\\ket{1}_p)$, where the subscript $s$ ($p$) labels the state of the spin (photonic mode), and $\\ket{1}_s$ is the spin's bright state that is excited and emit a single photon. Alternatively, the system can be brought to an excited state where two different decay channels lead to two different spin states. The emitted photons can have for example a different polarization entangled with the spin state.  Various optically active quantum systems have realized spin-photon emission through spin-dependent optical excitation or decay to different spin states, including NV centers in bulk diamonds, neutral atoms, trapped ions, and quantum dots.\n",
    "\n",
    "**Spin-Photon Gate** - A spin-photon gate block is a conditional gate between the spin and a photon. Depending on the exact implementation, this will act as a controlled Z- or controlled X-rotation on the photonic qubit. Spin-photon gate blocks require a strong coupling of photons with the stationary qubit, and this is realized by confining the light with photonic cavities or waveguides. In some cases, the need for strong coupling can be relaxed at the expense of a non-deterministic but heralded gate operation. Examples of practical implementation of spin-photon gate LBB are trapped atoms in Fabry-Perot cavities, SiV centers in diamond photonic crystal cavities, and quantum dots in photonic crystal waveguides.\n",
    " \n",
    "**Spin-Photon Projector** -A spin-photon projector block selects only specific states from the input state. With the right input state and the right selection, this results in spin-photon entanglement. This method is sometimes referred to as \"carving\". An example is where the input state is in a superposition for both the photon and spin qubit (note that the $\\ket{0}_p$ is referring to the qubit state, not the vacuum state): $\\frac{1}{2}(\\ket{0}_s\\ket{0}_p+ \\ket{0}_s\\ket{1}_p+\\ket{1}_s\\ket{0}_p+ \\ket{1}_s\\ket{1}_p)$ and the spin-photon interface has a photonic loss that depends on both the spin and photon state. In this example, a spin-photon interface that has photon loss for the photon in the scenario's $\\ket{0}_s\\ket{1}_p $and $\\ket{1}_s\\ket{0}_p$ would create with 50\\% chance the state $\\frac{1}{2}(\\ket{0}_s\\ket{0}_p+ \\ket{1}_s\\ket{1}_p)$. So heralding no photon loss by photon detection ensures that only (an entangled) part of the incoming state is selected. This approach was used for entangling two neutral atoms in a cavity and with silicon-vacancy centers in diamond photonic crystal cavities for the demonstration of an asynchronous Bell state measurement between two photons. The downside is that it has intrinsic losses as it rejects part of the incoming state rather than performing a deterministic gate.\n",
    "\n",
    "**Spin-Photon Absorption**\n",
    "The spin-photon absorption block transfers the photon state to the spin state. The block often implements a strong interaction using a cavity or spin ensemble. The absorption of a photon from lossy channels results in the vacuum field and does not herald the entanglement by photodetection resulting in low fidelities. Instead, spin-photon absorption can be useful if carefully used. For example, one can read the spin state after the absorption, effectively constructing a heralded protocol. Alternatively, one can make a high optical-depth spin ensemble absorb a single photon from a photon-pair source and use the other photon from the source. If the channel loss is negligible, the spin-photon absorption can directly implement quantum state transfer without classical communications.\n",
    "\n",
    "![QuREBBrepo](Images/QuREBB-2b1.png)\n",
    "\n",
    "**Figure 2(b)** displays the LBBs available to construct the REP. The circuit description outlines their idealized operations, which the user can match with the diagrams in Figure (a). For the spin-photon projector and the spin-photon absorption, an approximate gate diagram is given. This can be used to see how they can be used in the quantum circuits in (a). The exact gate description for these LBBs would be a projector operation and a SWAP gate.\n",
    "\n",
    "### Photon blocks\n",
    "\n",
    "**Photon source**\n",
    "Photon source blocks can be considered as the initialization of photonic qubits. High-rate entanglement generation with photon sources requires the deterministic generation of single photons with high-efficiency quantum emitters~\\cite{aharonovich2016solidstate,somaschi2016nearoptimal} or photon-pair generation followed by the heralding~\\cite{mosley2008heralded}. For high fidelities, single photons need to be indistinguishable, which is often challenging in a solid-state environment~\\cite{anderson2019electrical, grange2015cavityfunneled, choi2019cascaded}. The distinguishability problem is considered in the quantum optical modeling layer.\n",
    "\n",
    "**Photon pair sources**\n",
    "Photon pair sources provide entangled photon pairs, which can be used for REPs with source-in-midpoint topology. This can be understood as two photons initialized in an entangled state. Mid-point on-demand entangled photon pair sources have been proposed based on correlated photon decay from quantum emitters, mode-mixing of single photons or multiplexing spontaneous pair sources.\n",
    "\n",
    "We note that at the LBB level, photon pair sources output perfect Bell states in the logical basis, $\\ket{0}$ and $\\ket{1}$. The photonic basis of the states is determined in the photonic encoding layer, and imperfections, such as probabilistic photon pair generation, are detailed in the quantum optical modeling of physical building blocks.\n",
    "\n",
    "**Photon measurement**\n",
    "Generally in the REPs, the photon is still entangled with the spins before detection. For example in the sender-receiver topology (middle circuit Fig. 2(a)) the state before the measurement is \n",
    "\\begin{equation*}\n",
    "    \\frac{1}{2}\\left(\\ket{0}_p(\\ket{00}_{AB}+\\ket{11}_{AB}) + \\ket{1}_p(\\ket{01}_{AB}+\\ket{10}_{AB})\\right),\n",
    "\\end{equation*}\n",
    "where $A$ and $B$ refer to the two separate spins. This means that the photon needs to be measured on a basis that preserves entanglement between the spins, this is in the $Z$-basis for this situation. In this measurement of the photonic qubit, the outcome heralds a different entangled state on the spins, in this example measurement of $\\ket{0}$ for the photon heralds $\\frac{1}{\\sqrt{2}}(\\ket{00}+\\ket{11})$. One can choose to feedback on one of the spins to always generate the same entangled state or use the measurement outcome in post-processing. \n",
    "\n",
    "**Bell State Measurement**\n",
    "Photonic Bell state measurement projects the state of two photons into one of four Bell states, $\\ket{\\Psi^\\pm} = \\ket{01}\\pm\\ket{10}, \\ket{\\Phi^\\pm} = \\ket{00}\\pm\\ket{11}$. When it is required to have a quantum operation between two photons, for example in the detection-in-midpoint topology, the Bell state measurement can be used. This is advantageous as in linear optics the photons do not interact. This can be achieved with a beamsplitter and photon measurement after the beamsplitter. The Bell state measurement projects two photons into an entangled state. It is usually used for entanglement swapping of two spin-photon-entangled pairs to yield entangled spins. Note that the Bell state measurement with linear optics is probabilistic with only 50\\% chance of succeeding. However, with auxiliary single photons, one can boost the success probability to 75\\%\n",
    "\n",
    "**Photon gates**\n",
    "Gates on the photonic qubit are essential in some entanglement protocols. How easily these can be implemented completely depends on the photonic encoding used.\n",
    "\n",
    "![2b2](Images/QuREBB-2b2.png)\n",
    "\n",
    "**Figure 2(b)** LBB photon blocks\n",
    "\n",
    "### Spin blocks\n",
    "Operations on the spin such as initialization, gates, and measurements are their own logic building blocks. They are the standard set of initialization, qubit gates, and qubit measurement. Entanglement protocols require in some cases the spin to be initialized and put in a superposition, for each entanglement attempt.\n",
    "\n",
    "![2b3](Images/QuREBB-2b3.png)\n",
    "\n",
    "**Figure 2(b)** LBB spin blocks\n",
    "\n",
    "### Other logical building blocks\n",
    "\n",
    "The blocks discussed earlier are the logic operations required for the working of the REPs. On top of these there are processes, which in an ideal scenario do not do anything to the photonic and spin qubits. Their implementation will, however, add noise, for example, a photonic loss in a fiber or quantum frequency conversion of the photons. These blocks do not change the logical states of qubits in the ideal situation, so they appear as identity operators in the circuit diagrams of the LBB layer and they can be modeled in detail as PBBs. \n",
    "\n",
    "For example, a photonic loss block can be added, which takes care of the losses in the system, this does not change the ideal operation of the protocol but will impact the rate and fidelity in the simulations (which is implemented in the PBB). \n",
    "\n",
    "For a long-distance entanglement generation, it is advantageous to use photons in the telecom band to improve photon transmission using ultralow-loss fibers. As the physical platforms used for spin-photon interfaces have limited access to those wavelengths, quantum frequency conversion is often used to match the photon wavelength of the spin-photon interface with the desired communication band. In this case, one can model and add a frequency conversion block to protocols."
   ]
  },
  {
   "cell_type": "markdown",
   "id": "101066ff",
   "metadata": {},
   "source": [
    "### Combining topology and Logical Building Blocks\n",
    "In a given topology, a user can implement different combinations of LBBs. Figure~\\ref{fig:LBB}(c) demonstrates the detection-in-middle topology implemented with the spin-photon emission, gate, and projector logical building blocks.\n",
    "\n",
    "![2c](Images/QuREBB-2c.png)\n",
    "\n",
    "**Figure 2(C)** provides three different implementations of the midpoint detector as an example. In this case, the spin-photon emission, spin-photon gate, and spin-photon projector are used as the spin-photon interface, respectively."
   ]
  },
  {
   "cell_type": "markdown",
   "id": "b23c6b64",
   "metadata": {},
   "source": [
    "## Encoding\n",
    "\n",
    "In the previous section, the ideal operation of a REP was outlined. To translate this to the quantum hardware, the abstract spin and photonic qubits need to be encoded in the desired and available spin and photon levels. In this section, the photonic encodings are discussed in detail as these are very general. The spin encoding is much more platform dependent and therefore discussed more briefly.\n"
   ]
  },
  {
   "cell_type": "markdown",
   "id": "215e8e60",
   "metadata": {},
   "source": [
    "### Photon Encoding\n",
    "\n",
    "Optical photons are the best option to send quantum information over a long distance for remote entanglement. Quantum information can be encoded into a photon using various degrees of freedom: amplitude (Fock-state encoding), timing (time-bin encoding), spatial modes (dual-rail encoding), polarization (polarization encoding), and frequency (frequency encoding); see Fig. 3. In literature, dual-rail encoding can also refer to general two-mode encodings e.g. time-bin and frequency encoding. In this tutorial, we will use the term dual-rail exclusively as spatial modes encoding. Each of the encoding schemes has two states acting as the qubit basis. In general, the other degrees of freedom are kept the same to simplify the operations and allow for the interference of encoded photons for a Bell measurement, which requires indistinguishable photons\n",
    "unless precise measurement of conjugate variable is available and the measurement result is mutually unbiased.\n"
   ]
  },
  {
   "cell_type": "markdown",
   "id": "22b08a3c",
   "metadata": {},
   "source": [
    "![Figure3](Images\\QuREBB-figure3.png)\n",
    "\n",
    "**Figure 2** Encoding of photonic qubits. (a) Basis states of photonic encoding. (b) In every basis choice, the basis can be implemented with single photons or those can be approximated with a weak coherent state."
   ]
  },
  {
   "cell_type": "markdown",
   "id": "766c3bbf",
   "metadata": {},
   "source": [
    "**Photon number of the photonic qubit** - All encoding except Fock-state encoding have a single photon in the basis states. The advantage is that the loss of photons can be detected. The entanglement protocols discard the cases with photon loss for high-fidelity entanglement generation, so-called heralded entanglement.\n",
    "\n",
    "As high-efficiency, indistinguishable single-photon sources are technologically demanding, the single-photons are frequently replaced with weak coherent sources (attenuated lasers). They have Poisson statistics with a small mean photon number, well below one. The wave function of a weak coherent state is dominantly vacuum ($\\ket{0}$) with a small fraction of single photon state ($\\ket{1}$) and an even smaller fraction of two-photon states ($\\ket{2}$):\n",
    "\\begin{equation*}\n",
    "    \\ket{\\alpha} \\propto \\ket{0} + \\alpha \\ket{1} + \\frac{\\alpha^2}{\\sqrt{2}} \\ket{2} + ...\n",
    "\\end{equation*}\n",
    "where $\\alpha$ is the complex amplitude and $|\\alpha|^2 << 1$ is the mean photon number. The vacuum component $\\ket{0}$ reduces the rate of entanglement generation since it cannot herald entanglement through photodetection. The $\\ket{2}$ state reduces the fidelity of the spin-photon entangled state as the loss of one of the two photons leaks information to the environment. There is, therefore, a trade-off between rate and fidelity for choosing $\\alpha$, when using weak coherent states as approximate single-photon states in heralded entanglement generation protocols.\n"
   ]
  },
  {
   "cell_type": "markdown",
   "id": "f7908013",
   "metadata": {},
   "source": [
    "**Fock-state encoding** - Fock-state encoding stores quantum information in the photon-number eigenstates with zero and one photon ($\\ket{n=0}$ and $\\ket{n=1}$, where $n$ is the photon number). $n>1$ states are not considered in the encoding due to technical difficulties in preparing those states. However, the problem is that loss takes one qubit state to the other and therefore directly impacts the fidelity (compared to other encodings where loss can be detected as the vacuum state is not part of the encoding space). The relative phase of the two bases evolves as the optical phase, so the optical path length needs to be stabilized or at least known for correction. Despite these complications, Fock-state encoding has a significant advantage in that Bell measurement is possible with the detection of a single photon, while the other encodings need the detection of two single photons. The success probability of a heralded protocol scales linearly with the probability of photon loss if only single-photon detection is needed, while it scales quadratically for two-photon detection (in all but Fock state encoding). In cases where photon losses are significant, due to long-distance transmission or devices with low efficiency, the linear scaling given by Fock-state encoding can provide a key advantage over other encodings."
   ]
  },
  {
   "cell_type": "markdown",
   "id": "2b4d9b36",
   "metadata": {},
   "source": [
    "**Time-bin encoding** - Time-bin encoding counteracts the drawbacks of Fock-state encoding at the expense of the requirement of two-photon detection for Bell measurement. Two time bins (early and late) are chosen to encode the photons. Photon loss can always be detected, in the ideal case of detectors with no dark counts, as this would result in no detection of photons. Therefore, the fidelity of protocols with time-bin encoding is not compromised, as long as dark counts are negligible with respect to the signal, but the rate decreases. Another advantage is relaxed phase stability: the optical phases should be stable on the time scale of the spacing of the time bins. However, arbitrary qubit operations are hard to implement, but the encoding is quite robust against noise sources such as dispersion or birefringence in the transmission medium. Therefore this encoding is mostly used in sending quantum information over long fibers and not in situations that require full control over the photonic qubit state."
   ]
  },
  {
   "cell_type": "markdown",
   "id": "690cb004",
   "metadata": {},
   "source": [
    "**Polarization** - The polarization encoding defines the qubit state in two perpendicular polarizations: horizontal and vertical polarization (H and V), diagonal and anti-diagonal (D and A), or left and right circular (L and R). Single-qubit gates are easily implemented, as all single-qubit rotations can be performed with waveplates. Moreover, polarization encoding requires phase stability between the two polarization bases. This stability can be readily attained in free space. In single-mode optical fibers the polarization is preserved but temperature and stress fluctuations in the fiber can rotate the polarization, stabilization and calibration is therefore required. Polarization maintaining (PM) fibers decouple the two different polarization bases by using orthogonal modes with different effective indices. This preserves only the amplitude in each basis and not the phase relation between them. In remote entanglement experiments using polarization encoding, usually single mode fibers are used."
   ]
  },
  {
   "cell_type": "markdown",
   "id": "4c7be0b8",
   "metadata": {},
   "source": [
    "**Dual-rail encoding** - The dual-rail encoding uses two spatial modes for photons. The encoding has a main drawback as it requires twice the physical elements. The phase between two separate paths is extremely stable on the integrated photonic device, however, in fiber or free space the requirements are comparable to phase stabilization for Fock state encoding. This encoding can implement operations that are hard to perform in another encoding because path separation gives the most flexibility to use optical elements separately in two modes.\n",
    "\n",
    "Note that some literature uses the term 'dual-rail encoding' to refer to a single excitation out of two orthogonal bosonic degrees of freedom, encompassing spatial modes, polarizations, time bins, frequencies, wavevectors, and orbital angular momentum. In these instances, 'Fock state encoding' is referred to as 'single-rail encoding'. In this tutorial, we use 'dual-rail encoding' specifically for the single excitation in two spatial photonic modes and specify the degree of freedom in other cases."
   ]
  },
  {
   "cell_type": "markdown",
   "id": "1583d0e6",
   "metadata": {},
   "source": [
    "**Frequency encoding** - In frequency encoding, photonic qubits utilize two distinct frequency modes as basis states. Single-qubit gates in frequency encoding require nonlinear optical devices such as electro-optic modulators that suffer from low efficiencies. To measure frequency-encoded photons, the frequency separation of two frequency modes must exceed the spectral resolution of a grating or a cavity. One can also directly detect a frequency-encoded photon in time-separated manner by using group velocity dispersion in optical fibers or Bragg gratings. Note that group velocity dispersion does not convert the frequency encoding to time-bin encoding. Even if a photon of one frequency is time-shifted relative to a photon of another frequency, the two photons still occupy distinct frequency bins.\n"
   ]
  },
  {
   "cell_type": "markdown",
   "id": "8692579a",
   "metadata": {},
   "source": [
    "### Spin encoding\n",
    "\n",
    "Besides the photonic qubit, also the spin qubit needs to be encoded in the physical states of the system. The encoding of the stationary qubit depends on the system at hand. An important requirement for the spin-photon interface is that at least one of the states has an efficient and stable optical transition. Besides, there should be ways to initialize, control, and read out with high fidelity. Lastly, the coherence time of the qubit should be long enough to bridge at least the time of flight of the photons to the midpoint or another quantum node as this allows for heralded entanglement generation, required for applications beyond point-to-point quantum key distribution. Examples of the levels that are used to encode the spin qubit in various systems are the electronic spin for NV centers in diamond or cold atoms, spin-orbital hybrid states for group-IV centers in diamond, hyperfine levels in trapped ions and angular momentum states in quantum dots.\n"
   ]
  },
  {
   "cell_type": "markdown",
   "id": "bf423802",
   "metadata": {},
   "source": [
    "## Physical building blocks\n",
    "\n",
    "After the REP topology is constructed with LBBs and the encoding is chosen, we can construct the REP with the physical systems that are available. The LBBs are ideal circuit elements acting on the qubits of photons and spins, while the PBBs are physical processes on/of the optical modes (e.g. early and late) and spin states. Therefore, the PBB layer translates the abstract operations to allow hardware implementation. \n"
   ]
  },
  {
   "cell_type": "markdown",
   "id": "30ff5ab2",
   "metadata": {},
   "source": [
    "### Photon Physical Building Blocks\n",
    "\n",
    "The PBBs of the photonic operations are described in Fig. 4. Polarization and dual-rail encoding have the convenience in the implementation of quantum gates and are often used in linear optics quantum computation. The photonic PBBs, of which we describe photonic loss, mode mixing, and photodetection, are often studied in standard quantum optics textbooks.\n"
   ]
  },
  {
   "cell_type": "markdown",
   "id": "4e725dd8",
   "metadata": {},
   "source": [
    "![PBB](Images/QuREBB-figure4.png)\n",
    "\n",
    "**Figure 4** - Photonic physical building blocks for the different photon encodings. (a) Each basis has its own implementation of the quantum operations, but some do not have natural implementation without converting them to a different basis (usually to dual-rail). The measurement in the computational basis is performed with a single photon detector. For time-bin encoding, it needs to be time-resolved. For polarization and frequency, the qubit is usually converted to and detected in dual-rail encoding. Two-qubit gates are implemented using mode mixing with a beamsplitter. The mode mixing lets two photonic qubits interfere with each other. For a Z-rotation the phase between the two basis states needs to be altered. This is implemented in Fock state encoding with a delay line, in time-bin encoding with an electric optic modulator (EOM) shifting one time-bin, in polarization encoding with a waveplate, in dual-rail encoding with delaying one of the lines, and in frequency encoding with a dispersive medium. The X-rotation requires changing the photon between the two eigenstates, which is not feasible for Fock states encoding, goes via dual-rail for time-bin encoding, can be easily implemented with a waveplate in polarization encoding, uses a Mach-Zehnder interferometer for dual-rail and nonlinear processes for frequency encoding. (b) The conversion between the basis that can be used for the easier physical implementation of quantum operations. Fock state encoding cannot easily be converted. All other encodings can be converted to and from dual-rail. For this, one element adds a new encoding (switch, PBS, or cavity/grating), and another removes the old encoding (in the white dashed box, delay, waveplate, or frequency shifting EOM). The latter can be omitted if the photon is detected afterward, as no indistinguishability is required. (c) The LBB of Bell State Measurement can be constructed using the mode mixing and single photon detection in each of the encodings."
   ]
  },
  {
   "cell_type": "markdown",
   "id": "24dc7174",
   "metadata": {},
   "source": [
    "**Measurement** - Measurement in all photon encodings is done by means of single photon detectors. Fock state encoding can be measured directly. \\rev{However, a single photon state ($\\ket{1}$) after photon loss cannot be distinguished from the vacuum state ($\\ket{0}$).} Time-bin encoding requires time-resolving detectors. Polarization and frequency-encoded qubits cannot be detected directly and are usually converted to dual-rail (see Sec~\\ref{ssec: conversion}) where both modes are then measured with a separate detector.\n",
    "\n",
    "**Photon gates** - An arbitrary gate can be made with the combination of rotations around the X- and Z-axis of the qubit Bloch sphere. For a Z-rotation, the phase between the qubit basis states needs to be changed. This is directly also the phase that needs to be stable for the use of the encoding. For an X-rotation, the operation needs to change the basis states. This can be readily implemented for polarization encoding with waveplates. \\rev{For a Fock state encoding, this is not trivial and has not been demonstrated to the best of our knowledge,} and the time-bin needs to be converted to dual-rail. In dual-rail encoding a Mach-Zehnder interferometer is used.\n",
    "\n",
    "**Bell state measurement** - The Bell state measurement can be performed with linear optics with a 50\\% success probability. It can only detect the $\\ket{\\Psi^\\pm} = \\ket{01} \\pm \\ket{10}$ as it requires detecting both modes after the beamsplitter. The $\\ket{\\Phi^\\pm} = \\ket{00} \\pm \\ket{11}$ cannot be detected as measuring the same modes after the beamsplitter reveals both their individual states. The Bell state measurement is done by using a beamsplitter for mode mixing and two detectors to tell which of the two detectable entangled states ($\\ket{\\Psi^+}$ or $\\ket{\\Psi^-}$) was measured (Fig 4(c)).\n",
    "\n",
    "**Conversion between encoding** - Figure 4(b) shows the possible conversion between the encoding. In practice, dual-rail encoding is a versatile encoding that can be converted directly into the others and vice versa. For the conversion, one needs the separation of the photons in different modes into different spatial paths (e.g. using a polarizing beamsplitter) and compensating elements to remove the character from the previous encoding (e.g. using a waveplate). The compensation can be omitted if one does not need indistinguishable photons after conversion, for example, if the photons are detected directly.\n",
    "\n",
    "The conversion between time-bin encoding and dual rail is used often as this is the only viable way to perform X-gates on the photonic qubit. In this case, the switch is often replaced by a beamsplitter by accepting the 50\\% loss, as this reduces the complexity of the experiment and as the time delay between time bins can be short compared to the switching time. When using a beamsplitter, there are also possible optical paths involving the unwanted output ports that cause the photon to be delayed and fall outside of the defined time-bin window, however, these cases can be discarded upon measurement using time-resolving detectors."
   ]
  },
  {
   "cell_type": "markdown",
   "id": "5bd8d347",
   "metadata": {},
   "source": [
    "### Spin-photon interface PBBs\n",
    "\n",
    "The spin-photon interface is an essential part of the entanglement protocols as it connects the stationary and flying qubits. We discuss five different spin-photon interface PBBs, see Fig 5(a). The first three are suitable to make spin photon entanglement for a spin-photon emission LBB: spontaneous emission, coherent scattering, and Raman scattering. These PBBs are all controlled with a classical laser control pulse and the output is a single photon (or a weak coherent state depending on the exact implementation) entangled with the spin.  When the interaction between the light and the emitter is very strong, we can get a reflection of a single photon or weak coherent state where the amplitude or phase of the reflected light is controlled by the spin state. The conditional amplitude or phase reflection PBB can be used to build the LBB of a spin-photon projection or a spin-photon gate."
   ]
  },
  {
   "cell_type": "markdown",
   "id": "f36ecbe0",
   "metadata": {},
   "source": [
    "![fig5](Images/QuREBB-figure5.png)\n",
    "\n",
    "**Figure 5** Spin-photon interface physical building blocks - (a) State-selective optical transition as spin-photon interfaces. For the spontaneous emission spin-photon interface the excitation pulse is much shorter than the optical lifetime and excites the $\\ket{1}$, it will emit a single photon by spontaneous emission. The coherent scattering spin-photon interface scatters a weak pulse from the $\\ket{1}$ optical transition, resulting in a photon with a weak coherent state. The Raman scattering spin-photon interface is excited with a pulse but as the optical excitation ends up in a different spin state only a single photon is emitted. In the conditional phase reflection spin-photon interface a photon is reflected from the cavity with a coupled spin. For $\\ket{1}$ the phase is flipped and therefore entangled with the spin state. An overcoupled cavity is used for this purpose. In the conditional amplitude reflection spin-photon interface the photon is transmitted or reflected depending on the spin state. A critically coupled cavity is used for this case. (b) Schematic example of how a spin-photon interface LBB can be implemented in the different photonic encodings starting from a spin-photon PBB. Below are examples of experimental realizations of the emission, projection, and gate LBBs in different encodings."
   ]
  },
  {
   "cell_type": "markdown",
   "id": "5d27bdcd",
   "metadata": {},
   "source": [
    "**Spontaneous emission**\n",
    "The conceptually most simple way to implement a spin-photon interface is the emission-based spin-photon interface where the spin-photon entanglement is generated through spontaneous emission. In this case, a short, high-power, optical $\\pi$ pulse is used to excite the system to the excited state. If this excitation or the spontaneous emission depends on the spin state we can create spin-photon \\rev{entanglement}.\n",
    "\n",
    "With this PBB we can create a spin-photon emission LBB. For Fock state encoding we prepare the spin in a superposition and apply a spin state-dependent optical $\\pi$-pulse such that the presence of a photon is entangled with only one of the spin states. For the time-bin encoding, we initialize the spin state in an equal superposition and apply the excitation twice with a $\\pi$-pulse of the spin in the middle. For the polarization of frequency encoding, both spin states need to have an optical transition with a different polarization or frequency. The entanglement can either be generated by initializing the spin in an equal superposition and exciting both transitions or by relying on an optical transition that has an equal chance of decaying to either state correlated with a different polarization or frequency. \n",
    "\n",
    "The photon coming from such a process will have frequency and exponential temporal shape determined by the optical properties of the emitter. The linewidth is determined by the lifetime and the inhomogeneously broadened linewidth and the indistinguishability is determined by the dephasing processes of the optical transition. This requires favorable properties of the emitter to make the photons suitable for entanglement generation.\n",
    "The optical $\\pi$-pulse needs to be much shorter than the optical lifetime, otherwise in case of fast spontaneous decay the same pulse can cause re-excitation of the transition and a second photon emission, which can lead to an error in the protocol. On the other hand, it needs to be not too short as this increases the linewidth of the excitation pulse and can therefore couple to and cause photon emission from unwanted off-resonant transitions which are close in frequency.\n",
    "A common method to separate the single photon from the excitation laser is to use the delayed emission of the photons compared to the arrival of the laser pulse. By delaying the detection window compared to the arrival of the excitation pulse one can filter out the laser pulse in the time domain.\n",
    "\n",
    "**Coherent scattering**\n",
    "In the coherent scattering PBB a long and weak pulse is scattered elastically from the emitter. Under the condition that the exciting pulse is weak and long enough that on average only one photon interacts with the emitter within the optical lifetime, the scattered light will inherit the temporal shape, photon statistics, and frequency of the excitation field.\n",
    "\n",
    "One can detune the laser from the emitter, making it more resilient to the spectral instability of the emitter. However, as the light has the same character as the laser, filtering the excitation light is experimentally much more challenging. This PBB allows for a spin-photon emission LBB in a similar way as the spontaneous emission.\n",
    "\n",
    "**Raman scattering**\n",
    "The third way to make a spin-photon emission LBB is using the PBB of Raman scattering. In this case, the driving field and the emitted photon are coupled in a lambda scheme where they both couple to a virtual state. In this inelastic scattering event, the temporal waveform and frequency are determined by the driving field, but now only a single photon is emitted. The driving field and the spontaneously emitted photons, which would act as noise sources, can be separated and filtered out from the scattered photons since they have different frequencies. There is usually a trade-off between efficiency and noise in this PBB by choosing the detuning of the virtual level from the excited state. This PBB was used for entangling trapped ions over hundreds of meters. \n",
    "\n",
    "Raman transition can be also used for spin-photon absorption. In this case, the spin absorbs the incoming photon with one transition, and the other transition is driven so that the spin is in another state upon absorption. If there is no photon interacting with the first transition, for instance because there is no photon or it is in a different polarization, then there is no change in the spin state because the driving addresses the transition with no population.\n",
    "\n",
    "**Conditional amplitude reflection**\n",
    "When the interaction between the spin and the photon becomes strong, a single spin can modulate the single photon. This is different from the three previous situations where the driving field is 'classical' and only the photon emitted or scattered is in the single photon regime. As emitters have a limited dipole, the light field needs to be confined spatially to achieve strong interaction, which can be achieved in an optical cavity or a waveguide. \n",
    "In the conditional amplitude reflection PBB, the emitter acts as a quantum switch: reflecting the light if it is in one spin state while transmitting the light in the other spin state.\n",
    "\n",
    "In the dual rail encoding, this can clearly be used to realize a spin-photon gate as the spin interacts directly with the two spatial paths. For the other photonic encodings, we can use this PBB to make the spin-photon projector LBB: the photon is only reflected if the transition is on resonance and otherwise lost. This PBB was used to show an asynchronous Bell state measurement with the silicon vacancy in diamond, where a time-bin photonic qubit and a nanophotonic optical cavity were used.\n",
    "\n",
    "**Conditional phase reflection**\n",
    "To perform a spin-photon gate the conditional amplitude reflection PBB works only for the dual-rail encoding. For the other encodings, the problem is that photons are lost in transmission depending on the spin state, which is not compatible with a spin-photon gate. To apply a spin-photon gate we need an unconditional reflection of the photon. The conditionality of the interaction should therefore be encoded in the phase of the photon. This is achieved with an overcoupled cavity where the back side of the cavity has a much higher reflectivity than the front such that the photon will not be transmitted. The emitter will alter the cavity response in such a way that depending on the spin state, the photon will be reflected on the cavity or will enter the cavity and leave it again. When calibrated well, this can result in a $\\pi$ phase shift difference between the two types of reflection. The cavity can in principle also be replaced by a waveguide with a mirror at the end.\n",
    "\n",
    "The conditional phase reflection with polarization-encoded photonic qubits was the central PBB in the realization of a non-local gate with cold atoms in cavities. "
   ]
  },
  {
   "cell_type": "markdown",
   "id": "f3e04002",
   "metadata": {},
   "source": [
    "### Spin operations\n",
    "The exact PBB spin operations depend a lot on the chosen spin encoding. We discuss the most common ones below.\n",
    "\n",
    "**Initialization** - Initialization of the spin is usually achieved in one of the following ways. When a non-perfectly cycling optical transition is present, which means that under continuous driving there is a (small) probability of spontaneously decaying to a different state than the ones involved in the transition, it is possible to use optical pumping. By laser excitation of the non-cycling transition, the system will eventually decay to the desired qubit state and remain there as this is not driven by the laser. In systems with a very good readout, it can be advantageous to read and generate the desired initialized state with a control pulse conditional on the readout result.\n",
    "If one wants to prepare the system in a superposition a quantum gate can be used. Alternatively, one can prepare a state by Stimulated Raman Adiabatic Passage (STIRAP). \n",
    "\n",
    "**Control** - Quantum control of the qubit is usually achieved by direct Rabi driving of the transition. This is usually a microwave or optical field but can also be done with other coupled fields, like an oscillating strain field. \n",
    "If the transition frequency is experimentally hard to reach or it is only weakly allowed, two driving fields in a lambda configuration can be used, in which the qubit states are coupled to a common excited state. By driving both transitions, a coherent rotation on the qubit can be achieved with a two-photon Raman transition.\n",
    "In some systems, mostly based on solid-state implementations, coupling to fluctuating magnetic fields in the surrounding environment such as nuclear spin baths can affect the coherence of spin-based qubits. With the control in place, it is usually possible to extend the coherence time of the spin qubit in these platforms by means of dynamical decoupling.\n",
    "\n",
    "**Readout** - The qubits we are considering have a good spin-photon interface, which allows for optical readout of the spin. The spin can read out by the detection of the state-dependent fluorescence. For high fidelity of this readout, high collection efficiency and good cyclicity of the optical transition are needed. A good cyclicity results in a transition that can be driven for a long time generating as many photons as possible before the qubit decays to an unwanted state, a high collection efficiency allows for measuring enough photons for a high-fidelity readout with a shorter driving time and lower probability of the qubit changing state. When a conditional phase reflection PBB (see next section) is used the spin state can be read out by phase readout.\n",
    "\n",
    "**Auxiliary qubits** - To go beyond a single entangled link it is essential to have auxiliary qubits for storage of quantum states in the system. This is for example required for entanglement distillation and entanglement swapping in repeater schemes. The available auxiliary qubits are highly dependent on the system and can go from nuclear spins in solid-state emitters to different species of atoms or ions in those systems. The most difficult requirement to fulfill for these qubits is often that they need to be resilient for entanglement attempts on the spin qubit, which typically involves a lot of initialization and control pulses. This can result in a competition between the coupling required for two-qubit gates and the isolation required for resilience during entanglement attempts."
   ]
  },
  {
   "cell_type": "markdown",
   "id": "b2f1b13b",
   "metadata": {},
   "source": [
    "## Quantum optical modeling\n",
    "\n",
    "In the quantum optical modeling layer, the devices used are simulated at the quantum optics level. The aim of this layer is to calculate the action of the PBB on the photonic modes and spin states. The operations of PBBs are modeled as quantum channels which are completely positive trace-preserving maps. PBBs map an input density matrix to an output density matrix. We emphasize that the mathematical modeling of PBBs can be done in different levels of detail. Thus, one can choose the PBB model as exhaustive or approximate depending on the purpose. The quantum optical modeling layer is separated from the PBB layer as many PBBs rely on the same physical systems and therefore the same modeling, e.g. the conditional amplitude and phase reflection PBB both use an emitter coupled to a cavity. Moreover, the same PBBs can be modeled in different ways with different details. We will first discuss the intrinsic properties of the emitter, then how they can be enhanced and modified by an optical cavity, and finally, the modeling of a couple of PBBs.\n",
    "\n",
    "Using the modeling of a hardware-specific implementation, a REP can be benchmarked and optimized with respect to relevant experimental parameters. Having a realistic description of the building blocks also allows us to take into account noise sources and practical limitations.\n"
   ]
  },
  {
   "cell_type": "markdown",
   "id": "bcbb2ca2",
   "metadata": {},
   "source": []
  }
 ],
 "metadata": {
  "kernelspec": {
   "display_name": "Python 3 (ipykernel)",
   "language": "python",
   "name": "python3"
  },
  "language_info": {
   "codemirror_mode": {
    "name": "ipython",
    "version": 3
   },
   "file_extension": ".py",
   "mimetype": "text/x-python",
   "name": "python",
   "nbconvert_exporter": "python",
   "pygments_lexer": "ipython3",
   "version": "3.11.0"
  }
 },
 "nbformat": 4,
 "nbformat_minor": 5
}
