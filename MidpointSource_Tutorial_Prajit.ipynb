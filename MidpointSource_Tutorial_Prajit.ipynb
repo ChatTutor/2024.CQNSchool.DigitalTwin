{
 "cells": [
  {
   "cell_type": "markdown",
   "metadata": {},
   "source": [
    "# Midpoint Source Protocol for Quantum Links\n",
    "\n",
    "This notebook is a demonstration of the Midpoint Source Protocol for Quantum Links. We shall take a step away from the QuREBB framework and use some bespoke code for the evaluation of the protocol. \n",
    "\n",
    "This tutotial will guid eyou through the basics of components that go into the protocol and how they are used for the evaluation of a midpoint source protocol. The tutoril is structured as follows:\n",
    "- Brief Intro to Midpoint Source Protocol\n",
    "- Components of the Protocol\n",
    "- Understanding the Construction of a Entanglement Generation Source.\n",
    "- Building a Heralded Entanglement Generation Source\n",
    "- Quantum Memories: Sneak Peek\n",
    "- Building a Midpoint Source Protocol from the Components"
   ]
  },
  {
   "cell_type": "markdown",
   "metadata": {},
   "source": [
    "## Brief Intro to Midpoint Source Protocol\n",
    "\n",
    "The midpoint source protocol is one of the canonical methods to generate entanglement between two distant parties. You have all delved into the details of the 'midpoint swap' or 'swap in the middle' protocol in the previous tutorials. The protocol was first suggested by Jones et. al [CITE]. It relies on access to three main components:\n",
    "1. A pair of quantum memories at the two distant parties that are wishing to generate entanglement. Let us call them Alice (A) and Bob (B).\n",
    "2. A source of entangled photons at the 'midpoint' that a third party Charlie (C) is handling.\n",
    "3. Quantum channels (i.e. mechanisms to send qubits) from C to A and B, as well classcial communication channels between all parties.\n",
    "\n",
    "The overall protocol is quite simple. It proceeds as follows:\n",
    "1. C generates a pair of entangled photons and sends one to A and the other to B. They *also notify* A and B that they have done so.\n",
    "2. A and B receives the photons and store them in their quantum memories. If they have done so **successfully**, they communicate their success to each other.\n",
    "3. Once both A and B have signalled success, they are sure that their memories are entangled. They can now use these entangled memories to do any task that they need entnaglement for (e.g. teleporting a quantum state, generating a shared secret key between them, etc.)\n",
    "4. If either A or B have signalled failure, they abort the protocol and try again.\n",
    "\n",
    "The flow of the protocol is shown in the figure below. One might note that this is quite straightforward and does not require any fancy quantum operations. However, the devil is in the details. We shall see the various requirement for the protocol to work in the next section."
   ]
  },
  {
   "cell_type": "markdown",
   "metadata": {},
   "source": [
    "\n",
    "## Components of the Protocol\n",
    "\n",
    "As stated above the protocol requires three main components. Let us look at each of them in turn. \n",
    "\n",
    "### Quantum Memories\n",
    "Most generally put quantum memories are physical systems that are capable of storing quantum information for a long time. In the context of the protocol, we require quantum memories that not only can can store quantum information for a long time but are also also be able to interact with photons. The latter requirement is necessary for the memories to be able to store entangled photons coming from the midpoint source at C. Furthermore, we require that the end parties A and B **know** when their share of the entnagled photon pair is successfully stored in their memories. This is necessary for the protocol to work, as they need to communicate with each other to know when to proceed to the next step or whether to abort the protocol and restart.\n",
    "\n",
    "We generally refer to this set of requirements for a quantum memory as a 'heralded photonic quantum memory'. Examples of this memory have been proposed in the literature for as long as quantum information has been alive - and quite recently, experiments have been able to demonstrate them as well. We defer a detailed discussion of what these memories actually do to a later section. Curious readers can look at the following references for more details:\n",
    "- [CITE]"
   ]
  },
  {
   "cell_type": "markdown",
   "metadata": {},
   "source": [
    "### Entanglement Generation Source\n",
    "The entanglement generation source is a device that is capable of generating entangled photons. This is the most important component of the protocol. Although generating entanglement might be trivial for some quantum systems, we specifically care about the generation of entangled photons. This is because photons are the most convenient carriers of quantum information over long distances, either via transmission on optical fibers (such as those that form the backbone of the Internet) or by free-space optical links (which is how satellites communicate with earth bound transmitter and each other). This task however is highly non-trivial and has been studied extensively. \n",
    "\n",
    "The type of entanglement is dependent on how the qubit is defined. For example, if we define the qubit in terms of the 'presence' or 'absence' of a photon such as \n",
    "$$\\ket{\\bar{0}}= \\ket{0}; \\quad \\ket{\\bar{1}}= \\ket{1} $$\n",
    "then the entanglement generation source is a device that generates entangled photons in the form of\n",
    "\\begin{equation}\n",
    "\\begin{split}  \n",
    "\\ket{\\Psi^+} = \\frac{1}{\\sqrt{2}}\\left(\\ket{0}\\ket{0} + \\ket{1}\\ket{1}\\right) \\\\\n",
    "\\ket{\\Psi^-} = \\frac{1}{\\sqrt{2}}\\left(\\ket{0}\\ket{0} - \\ket{1}\\ket{1}\\right) \\\\\n",
    "\\ket{\\Phi^+} = \\frac{1}{\\sqrt{2}}\\left(\\ket{0}\\ket{1} + \\ket{1}\\ket{0}\\right) \\\\ \n",
    "\\ket{\\Phi^-} = \\frac{1}{\\sqrt{2}}\\left(\\ket{0}\\ket{1} - \\ket{1}\\ket{0}\\right)\n",
    "\\end{split}\n",
    "\\end{equation}\n",
    "where $\\ket{0}$ and $\\ket{1}$ are the states of the photon in the 'presence' and 'absence' basis respectively. In contrast if we define the qubit in terms of the polarization of the photon, then the entanglement generation source is a device that generates entangled photons in the form of\n",
    "\\begin{equation}\n",
    "\\begin{split}\n",
    "\\ket{\\Psi^+} = \\frac{1}{\\sqrt{2}}\\left(\\ket{H}\\ket{H} + \\ket{V}\\ket{V}\\right) \\\\\n",
    "\\ket{\\Psi^-} = \\frac{1}{\\sqrt{2}}\\left(\\ket{H}\\ket{H} - \\ket{V}\\ket{V}\\right) \\\\\n",
    "\\ket{\\Phi^+} = \\frac{1}{\\sqrt{2}}\\left(\\ket{H}\\ket{V} + \\ket{V}\\ket{H}\\right) \\\\\n",
    "\\ket{\\Phi^-} = \\frac{1}{\\sqrt{2}}\\left(\\ket{H}\\ket{V} - \\ket{V}\\ket{H}\\right)\n",
    "\\end{split}\n",
    "\\end{equation}\n",
    "where $\\ket{H}$ and $\\ket{V}$ are the states of the photon in the horizontal and vertical polarization basis respectively. This forms part of the more general 'dual-rail' encoding of the qubit in a photon, where the qubit is encoded in the presence of a photon in ***one of two different modes***. \n",
    "\n",
    "Dual rail encodings are the most common way to encode qubits in photons - they can refer modes which are disticnt in time of arrival, frequency, polarization, spatial characteristics etc. For the rest of this tutorial, we shall assume that the entangled qubits are encoded in the dual-rail encoding of the photon. We shall do a deep dive into the construction of such a source in the next section. "
   ]
  },
  {
   "cell_type": "markdown",
   "metadata": {},
   "source": [
    "### Quantum and Classical Channels for Information Transfer\n",
    "\n",
    "The final component of the protocol is the quantum and classical channels that are used to transfer information between the parties. The quantum channels are used in the process for C to send the qubits to A and B, i.e. to send the entangled photons from the midpoint source to the quantum memories of the end parties. The classical channels are used by all parties to communicate information either about the arrival of a photon (from C to A and B) and also about the success or failure of the entanglement generation process between the parties (from A and B to each other).\n",
    "\n",
    "Quantum channels that we shall consider here form a specific subset of the general concept of quantum channels that you may have seen in the previous tutorials. Our quantum channel is one that is capable of sending a single photonic qubit from one party to another. These are generally refered to as 'bosonic pure loss channels' in the literature. We shall see how to work with such a channel in the next section.\n",
    "\n",
    "The classical channels that we shall consider simply a classical bit channel that can send a string of bits from one party to another. In most quantum communication protocols, this is assumed to be a perfect channel, i.e. the bits are sent without any errors. We shall also assume this for our protocol considerations. "
   ]
  }
 ],
 "metadata": {
  "language_info": {
   "name": "python"
  }
 },
 "nbformat": 4,
 "nbformat_minor": 2
}
